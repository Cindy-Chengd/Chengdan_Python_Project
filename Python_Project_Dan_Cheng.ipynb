{
 "cells": [
  {
   "cell_type": "markdown",
   "metadata": {},
   "source": [
    "# Process original data"
   ]
  },
  {
   "cell_type": "code",
   "execution_count": 63,
   "metadata": {},
   "outputs": [],
   "source": [
    "import pandas as pd"
   ]
  },
  {
   "cell_type": "markdown",
   "metadata": {},
   "source": [
    "#Read \"CCDS.20160908_origin.txt\" as csv file:"
   ]
  },
  {
   "cell_type": "code",
   "execution_count": 64,
   "metadata": {},
   "outputs": [],
   "source": [
    "data0 = pd.read_csv(\"CCDS.20160908_origin.txt\",sep=\"\\t\")"
   ]
  },
  {
   "cell_type": "code",
   "execution_count": 65,
   "metadata": {},
   "outputs": [
    {
     "data": {
      "text/plain": [
       "(34297, 11)"
      ]
     },
     "execution_count": 65,
     "metadata": {},
     "output_type": "execute_result"
    }
   ],
   "source": [
    "data0.shape"
   ]
  },
  {
   "cell_type": "markdown",
   "metadata": {},
   "source": [
    "#This data frame contains 34297 rows and 11 columns"
   ]
  },
  {
   "cell_type": "markdown",
   "metadata": {},
   "source": [
    "#Check the firs 5 rows of data0:"
   ]
  },
  {
   "cell_type": "code",
   "execution_count": 66,
   "metadata": {},
   "outputs": [
    {
     "data": {
      "text/html": [
       "<div>\n",
       "<style scoped>\n",
       "    .dataframe tbody tr th:only-of-type {\n",
       "        vertical-align: middle;\n",
       "    }\n",
       "\n",
       "    .dataframe tbody tr th {\n",
       "        vertical-align: top;\n",
       "    }\n",
       "\n",
       "    .dataframe thead th {\n",
       "        text-align: right;\n",
       "    }\n",
       "</style>\n",
       "<table border=\"1\" class=\"dataframe\">\n",
       "  <thead>\n",
       "    <tr style=\"text-align: right;\">\n",
       "      <th></th>\n",
       "      <th>#chromosome</th>\n",
       "      <th>nc_accession</th>\n",
       "      <th>gene</th>\n",
       "      <th>gene_id</th>\n",
       "      <th>ccds_id</th>\n",
       "      <th>ccds_status</th>\n",
       "      <th>cds_strand</th>\n",
       "      <th>cds_from</th>\n",
       "      <th>cds_to</th>\n",
       "      <th>cds_locations</th>\n",
       "      <th>match_type</th>\n",
       "    </tr>\n",
       "  </thead>\n",
       "  <tbody>\n",
       "    <tr>\n",
       "      <th>0</th>\n",
       "      <td>1</td>\n",
       "      <td>NC_000001.8</td>\n",
       "      <td>LINC00115</td>\n",
       "      <td>79854</td>\n",
       "      <td>CCDS1.1</td>\n",
       "      <td>Withdrawn</td>\n",
       "      <td>-</td>\n",
       "      <td>-</td>\n",
       "      <td>-</td>\n",
       "      <td>-</td>\n",
       "      <td>None</td>\n",
       "    </tr>\n",
       "    <tr>\n",
       "      <th>1</th>\n",
       "      <td>1</td>\n",
       "      <td>NC_000001.11</td>\n",
       "      <td>SAMD11</td>\n",
       "      <td>148398</td>\n",
       "      <td>CCDS2.2</td>\n",
       "      <td>Public</td>\n",
       "      <td>+</td>\n",
       "      <td>925941</td>\n",
       "      <td>944152</td>\n",
       "      <td>[925941-926012, 930154-930335, 931038-931088, ...</td>\n",
       "      <td>Identical</td>\n",
       "    </tr>\n",
       "    <tr>\n",
       "      <th>2</th>\n",
       "      <td>1</td>\n",
       "      <td>NC_000001.11</td>\n",
       "      <td>NOC2L</td>\n",
       "      <td>26155</td>\n",
       "      <td>CCDS3.1</td>\n",
       "      <td>Public</td>\n",
       "      <td>-</td>\n",
       "      <td>944693</td>\n",
       "      <td>959239</td>\n",
       "      <td>[944693-944799, 945056-945145, 945517-945652, ...</td>\n",
       "      <td>Identical</td>\n",
       "    </tr>\n",
       "    <tr>\n",
       "      <th>3</th>\n",
       "      <td>1</td>\n",
       "      <td>NC_000001.11</td>\n",
       "      <td>PLEKHN1</td>\n",
       "      <td>84069</td>\n",
       "      <td>CCDS4.1</td>\n",
       "      <td>Public</td>\n",
       "      <td>+</td>\n",
       "      <td>966531</td>\n",
       "      <td>974574</td>\n",
       "      <td>[966531-966613, 966703-966802, 970276-970422, ...</td>\n",
       "      <td>Identical</td>\n",
       "    </tr>\n",
       "    <tr>\n",
       "      <th>4</th>\n",
       "      <td>1</td>\n",
       "      <td>NC_000001.11</td>\n",
       "      <td>HES4</td>\n",
       "      <td>57801</td>\n",
       "      <td>CCDS5.1</td>\n",
       "      <td>Public</td>\n",
       "      <td>-</td>\n",
       "      <td>999058</td>\n",
       "      <td>999972</td>\n",
       "      <td>[999058-999431, 999525-999612, 999691-999786, ...</td>\n",
       "      <td>Identical</td>\n",
       "    </tr>\n",
       "  </tbody>\n",
       "</table>\n",
       "</div>"
      ],
      "text/plain": [
       "  #chromosome  nc_accession       gene  gene_id  ccds_id ccds_status  \\\n",
       "0           1   NC_000001.8  LINC00115    79854  CCDS1.1   Withdrawn   \n",
       "1           1  NC_000001.11     SAMD11   148398  CCDS2.2      Public   \n",
       "2           1  NC_000001.11      NOC2L    26155  CCDS3.1      Public   \n",
       "3           1  NC_000001.11    PLEKHN1    84069  CCDS4.1      Public   \n",
       "4           1  NC_000001.11       HES4    57801  CCDS5.1      Public   \n",
       "\n",
       "  cds_strand cds_from  cds_to  \\\n",
       "0          -        -       -   \n",
       "1          +   925941  944152   \n",
       "2          -   944693  959239   \n",
       "3          +   966531  974574   \n",
       "4          -   999058  999972   \n",
       "\n",
       "                                       cds_locations match_type  \n",
       "0                                                  -       None  \n",
       "1  [925941-926012, 930154-930335, 931038-931088, ...  Identical  \n",
       "2  [944693-944799, 945056-945145, 945517-945652, ...  Identical  \n",
       "3  [966531-966613, 966703-966802, 970276-970422, ...  Identical  \n",
       "4  [999058-999431, 999525-999612, 999691-999786, ...  Identical  "
      ]
     },
     "execution_count": 66,
     "metadata": {},
     "output_type": "execute_result"
    }
   ],
   "source": [
    "data0.head()"
   ]
  },
  {
   "cell_type": "markdown",
   "metadata": {},
   "source": [
    "#Now I can see that the column labels including: \"#chromosome\", \"nc_accession\", \"gene\", \"gene_id\", \"ccds_id\",\n",
    "\"ccds_status\", \"cds_strand\", \"cds_from\", \"cds_to\", \"cds_locations\", \"match_type\""
   ]
  },
  {
   "cell_type": "markdown",
   "metadata": {},
   "source": [
    "#Check the composition of the \"match_type\" column of data0:"
   ]
  },
  {
   "cell_type": "code",
   "execution_count": 67,
   "metadata": {},
   "outputs": [
    {
     "data": {
      "text/plain": [
       "Identical    34031\n",
       "None           219\n",
       "Partial         47\n",
       "Name: match_type, dtype: int64"
      ]
     },
     "execution_count": 67,
     "metadata": {},
     "output_type": "execute_result"
    }
   ],
   "source": [
    "data0.iloc[:,-1].value_counts()"
   ]
  },
  {
   "cell_type": "markdown",
   "metadata": {},
   "source": [
    "#I only want to take the data whose \"match_type\" is \"Identical\""
   ]
  },
  {
   "cell_type": "markdown",
   "metadata": {},
   "source": [
    "#Check the composition of the \"ccds_status\" column of data0:"
   ]
  },
  {
   "cell_type": "code",
   "execution_count": 68,
   "metadata": {},
   "outputs": [
    {
     "data": {
      "text/plain": [
       "Public                                32534\n",
       "Withdrawn                              1731\n",
       "Under review, withdrawal                 15\n",
       "Reviewed, update pending                  7\n",
       "Withdrawn, inconsistent annotation        6\n",
       "Under review, update                      4\n",
       "Name: ccds_status, dtype: int64"
      ]
     },
     "execution_count": 68,
     "metadata": {},
     "output_type": "execute_result"
    }
   ],
   "source": [
    "data0.iloc[:,5].value_counts()"
   ]
  },
  {
   "cell_type": "markdown",
   "metadata": {},
   "source": [
    "#I only want to take the data whose \"ccds_status\" is \"Public\""
   ]
  },
  {
   "cell_type": "code",
   "execution_count": 69,
   "metadata": {},
   "outputs": [],
   "source": [
    "import numpy as np"
   ]
  },
  {
   "cell_type": "markdown",
   "metadata": {},
   "source": [
    "#Take the data with \"match_type\"==\"Identical\" and \"ccds_status\"==\"Public\", and save as data1:"
   ]
  },
  {
   "cell_type": "code",
   "execution_count": 70,
   "metadata": {},
   "outputs": [],
   "source": [
    "data1 = data0[np.logical_and(data0.iloc[:,5]==\"Public\",data0.iloc[:,-1]==\"Identical\")]"
   ]
  },
  {
   "cell_type": "markdown",
   "metadata": {},
   "source": [
    "Because the \"match_type\" of all chosen genes is \"Identical\" and the \"ccds_status\" of all chosen genes is \"Public\", I can drop the \"match_type\" column and \"ccds_status\" column:"
   ]
  },
  {
   "cell_type": "code",
   "execution_count": 71,
   "metadata": {},
   "outputs": [],
   "source": [
    "cds = data1.drop([\"match_type\", \"ccds_status\"],axis=1)"
   ]
  },
  {
   "cell_type": "code",
   "execution_count": 72,
   "metadata": {},
   "outputs": [
    {
     "data": {
      "text/html": [
       "<div>\n",
       "<style scoped>\n",
       "    .dataframe tbody tr th:only-of-type {\n",
       "        vertical-align: middle;\n",
       "    }\n",
       "\n",
       "    .dataframe tbody tr th {\n",
       "        vertical-align: top;\n",
       "    }\n",
       "\n",
       "    .dataframe thead th {\n",
       "        text-align: right;\n",
       "    }\n",
       "</style>\n",
       "<table border=\"1\" class=\"dataframe\">\n",
       "  <thead>\n",
       "    <tr style=\"text-align: right;\">\n",
       "      <th></th>\n",
       "      <th>#chromosome</th>\n",
       "      <th>nc_accession</th>\n",
       "      <th>gene</th>\n",
       "      <th>gene_id</th>\n",
       "      <th>ccds_id</th>\n",
       "      <th>cds_strand</th>\n",
       "      <th>cds_from</th>\n",
       "      <th>cds_to</th>\n",
       "      <th>cds_locations</th>\n",
       "    </tr>\n",
       "  </thead>\n",
       "  <tbody>\n",
       "    <tr>\n",
       "      <th>1</th>\n",
       "      <td>1</td>\n",
       "      <td>NC_000001.11</td>\n",
       "      <td>SAMD11</td>\n",
       "      <td>148398</td>\n",
       "      <td>CCDS2.2</td>\n",
       "      <td>+</td>\n",
       "      <td>925941</td>\n",
       "      <td>944152</td>\n",
       "      <td>[925941-926012, 930154-930335, 931038-931088, ...</td>\n",
       "    </tr>\n",
       "    <tr>\n",
       "      <th>2</th>\n",
       "      <td>1</td>\n",
       "      <td>NC_000001.11</td>\n",
       "      <td>NOC2L</td>\n",
       "      <td>26155</td>\n",
       "      <td>CCDS3.1</td>\n",
       "      <td>-</td>\n",
       "      <td>944693</td>\n",
       "      <td>959239</td>\n",
       "      <td>[944693-944799, 945056-945145, 945517-945652, ...</td>\n",
       "    </tr>\n",
       "    <tr>\n",
       "      <th>3</th>\n",
       "      <td>1</td>\n",
       "      <td>NC_000001.11</td>\n",
       "      <td>PLEKHN1</td>\n",
       "      <td>84069</td>\n",
       "      <td>CCDS4.1</td>\n",
       "      <td>+</td>\n",
       "      <td>966531</td>\n",
       "      <td>974574</td>\n",
       "      <td>[966531-966613, 966703-966802, 970276-970422, ...</td>\n",
       "    </tr>\n",
       "    <tr>\n",
       "      <th>4</th>\n",
       "      <td>1</td>\n",
       "      <td>NC_000001.11</td>\n",
       "      <td>HES4</td>\n",
       "      <td>57801</td>\n",
       "      <td>CCDS5.1</td>\n",
       "      <td>-</td>\n",
       "      <td>999058</td>\n",
       "      <td>999972</td>\n",
       "      <td>[999058-999431, 999525-999612, 999691-999786, ...</td>\n",
       "    </tr>\n",
       "    <tr>\n",
       "      <th>5</th>\n",
       "      <td>1</td>\n",
       "      <td>NC_000001.11</td>\n",
       "      <td>ISG15</td>\n",
       "      <td>9636</td>\n",
       "      <td>CCDS6.1</td>\n",
       "      <td>+</td>\n",
       "      <td>1013573</td>\n",
       "      <td>1014477</td>\n",
       "      <td>[1013573-1013575, 1013983-1014477]</td>\n",
       "    </tr>\n",
       "  </tbody>\n",
       "</table>\n",
       "</div>"
      ],
      "text/plain": [
       "  #chromosome  nc_accession     gene  gene_id  ccds_id cds_strand cds_from  \\\n",
       "1           1  NC_000001.11   SAMD11   148398  CCDS2.2          +   925941   \n",
       "2           1  NC_000001.11    NOC2L    26155  CCDS3.1          -   944693   \n",
       "3           1  NC_000001.11  PLEKHN1    84069  CCDS4.1          +   966531   \n",
       "4           1  NC_000001.11     HES4    57801  CCDS5.1          -   999058   \n",
       "5           1  NC_000001.11    ISG15     9636  CCDS6.1          +  1013573   \n",
       "\n",
       "    cds_to                                      cds_locations  \n",
       "1   944152  [925941-926012, 930154-930335, 931038-931088, ...  \n",
       "2   959239  [944693-944799, 945056-945145, 945517-945652, ...  \n",
       "3   974574  [966531-966613, 966703-966802, 970276-970422, ...  \n",
       "4   999972  [999058-999431, 999525-999612, 999691-999786, ...  \n",
       "5  1014477                 [1013573-1013575, 1013983-1014477]  "
      ]
     },
     "execution_count": 72,
     "metadata": {},
     "output_type": "execute_result"
    }
   ],
   "source": [
    "cds.head()"
   ]
  },
  {
   "cell_type": "markdown",
   "metadata": {},
   "source": [
    "# Calculate the total length of CDS (coding sequences) for all genes"
   ]
  },
  {
   "cell_type": "markdown",
   "metadata": {},
   "source": [
    "#I want to use the information in the \"cds_locations\" column to calculate the length of CDS.\n",
    "For example, for the cds_location \"925941-926012\", the CDS length = 926012-925941+1"
   ]
  },
  {
   "cell_type": "markdown",
   "metadata": {},
   "source": [
    "#But, before I do the calculation, I need to further process the data:"
   ]
  },
  {
   "cell_type": "markdown",
   "metadata": {},
   "source": [
    "#For example, the first gene:"
   ]
  },
  {
   "cell_type": "code",
   "execution_count": 73,
   "metadata": {},
   "outputs": [],
   "source": [
    "tmp = cds.iloc[0,-1]"
   ]
  },
  {
   "cell_type": "code",
   "execution_count": 74,
   "metadata": {
    "scrolled": true
   },
   "outputs": [
    {
     "name": "stdout",
     "output_type": "stream",
     "text": [
      "[925941-926012, 930154-930335, 931038-931088, 935771-935895, 939039-939128, 939274-939459, 941143-941305, 942135-942250, 942409-942487, 942558-943057, 943252-943376, 943697-943807, 943907-944152]\n"
     ]
    }
   ],
   "source": [
    "print(tmp)"
   ]
  },
  {
   "cell_type": "code",
   "execution_count": 75,
   "metadata": {},
   "outputs": [
    {
     "data": {
      "text/plain": [
       "str"
      ]
     },
     "execution_count": 75,
     "metadata": {},
     "output_type": "execute_result"
    }
   ],
   "source": [
    "type(tmp)"
   ]
  },
  {
   "cell_type": "markdown",
   "metadata": {},
   "source": [
    "#I can not do the calculation with strings, so I need to change the data type from strings to integers. I also need to use np.diff()to calculate the length of CDS"
   ]
  },
  {
   "cell_type": "code",
   "execution_count": 76,
   "metadata": {},
   "outputs": [],
   "source": [
    "tmp1 = tmp.strip(\"[\").strip(\"]\").split(\", \")"
   ]
  },
  {
   "cell_type": "code",
   "execution_count": 77,
   "metadata": {},
   "outputs": [],
   "source": [
    "tmp2 = tmp1[0]"
   ]
  },
  {
   "cell_type": "code",
   "execution_count": 78,
   "metadata": {},
   "outputs": [
    {
     "name": "stdout",
     "output_type": "stream",
     "text": [
      "925941-926012\n"
     ]
    }
   ],
   "source": [
    "print(tmp2)"
   ]
  },
  {
   "cell_type": "code",
   "execution_count": 79,
   "metadata": {},
   "outputs": [],
   "source": [
    "tmp3 = list(map(int,tmp2.split(\"-\")))"
   ]
  },
  {
   "cell_type": "code",
   "execution_count": 80,
   "metadata": {},
   "outputs": [
    {
     "name": "stdout",
     "output_type": "stream",
     "text": [
      "[925941, 926012]\n"
     ]
    }
   ],
   "source": [
    "print(tmp3)"
   ]
  },
  {
   "cell_type": "code",
   "execution_count": 81,
   "metadata": {},
   "outputs": [],
   "source": [
    "cds_len1 = np.diff(list(map(int,tmp2.split(\"-\"))))[0] + 1"
   ]
  },
  {
   "cell_type": "code",
   "execution_count": 82,
   "metadata": {
    "scrolled": true
   },
   "outputs": [
    {
     "name": "stdout",
     "output_type": "stream",
     "text": [
      "72\n"
     ]
    }
   ],
   "source": [
    "print(cds_len1)"
   ]
  },
  {
   "cell_type": "markdown",
   "metadata": {},
   "source": [
    "926012-925941+1=72. it works!#"
   ]
  },
  {
   "cell_type": "markdown",
   "metadata": {},
   "source": [
    "#Now calculate the total CDS length for the first gene:"
   ]
  },
  {
   "cell_type": "code",
   "execution_count": 83,
   "metadata": {},
   "outputs": [],
   "source": [
    "def sum_exon(tmp):\n",
    "    \"\"\"\n",
    "    Calculate total CDS length of a gene\n",
    "    \n",
    "    \"\"\"\n",
    "    tmp1 = tmp.strip(\"[\").strip(\"]\").split(\", \")\n",
    "    cds_len = sum([np.diff(list(map(int,tmp1[i].split(\"-\"))))[0]+1 \n",
    "    for i in range(len(tmp1))])\n",
    "    return(cds_len)"
   ]
  },
  {
   "cell_type": "code",
   "execution_count": 84,
   "metadata": {},
   "outputs": [
    {
     "data": {
      "text/plain": [
       "2046"
      ]
     },
     "execution_count": 84,
     "metadata": {},
     "output_type": "execute_result"
    }
   ],
   "source": [
    "sum_exon(tmp)"
   ]
  },
  {
   "cell_type": "markdown",
   "metadata": {},
   "source": [
    "#Apply the sum_exon(tmp) to all the genes:"
   ]
  },
  {
   "cell_type": "code",
   "execution_count": 85,
   "metadata": {},
   "outputs": [],
   "source": [
    "cds_len_list = list(map(sum_exon,cds.cds_locations))"
   ]
  },
  {
   "cell_type": "code",
   "execution_count": 86,
   "metadata": {},
   "outputs": [
    {
     "name": "stdout",
     "output_type": "stream",
     "text": [
      "[2046, 2250, 1836, 666, 498, 597, 1215, 768, 726, 834, 1047, 990, 780, 828, 624, 2505, 912, 1803, 2013, 1329, 600, 450, 1338, 195, 1947, 1905, 585, 801, 1023, 630]\n"
     ]
    }
   ],
   "source": [
    "print(cds_len_list[0:30])"
   ]
  },
  {
   "cell_type": "markdown",
   "metadata": {},
   "source": [
    "#Calculate the total length of CDS of all the genes:"
   ]
  },
  {
   "cell_type": "code",
   "execution_count": 87,
   "metadata": {},
   "outputs": [],
   "source": [
    "total_cds_len = sum(cds_len_list)"
   ]
  },
  {
   "cell_type": "code",
   "execution_count": 88,
   "metadata": {},
   "outputs": [
    {
     "name": "stdout",
     "output_type": "stream",
     "text": [
      "Total length of human CDS is:  55591157\n"
     ]
    }
   ],
   "source": [
    "print(\"Total length of human CDS is: \",total_cds_len)"
   ]
  }
 ],
 "metadata": {
  "kernelspec": {
   "display_name": "Python 3",
   "language": "python",
   "name": "python3"
  },
  "language_info": {
   "codemirror_mode": {
    "name": "ipython",
    "version": 3
   },
   "file_extension": ".py",
   "mimetype": "text/x-python",
   "name": "python",
   "nbconvert_exporter": "python",
   "pygments_lexer": "ipython3",
   "version": "3.7.3"
  }
 },
 "nbformat": 4,
 "nbformat_minor": 2
}
