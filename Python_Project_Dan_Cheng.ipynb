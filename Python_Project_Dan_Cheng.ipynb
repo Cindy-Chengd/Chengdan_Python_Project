{
 "cells": [
  {
   "cell_type": "markdown",
   "metadata": {},
   "source": [
    "# Change directory"
   ]
  },
  {
   "cell_type": "code",
   "execution_count": 1,
   "metadata": {},
   "outputs": [
    {
     "data": {
      "text/plain": [
       "'/Users/chengdan'"
      ]
     },
     "execution_count": 1,
     "metadata": {},
     "output_type": "execute_result"
    }
   ],
   "source": [
    "pwd"
   ]
  },
  {
   "cell_type": "code",
   "execution_count": 3,
   "metadata": {},
   "outputs": [
    {
     "name": "stdout",
     "output_type": "stream",
     "text": [
      "/Users/chengdan/Desktop/Python_Project_Dan_Cheng\n"
     ]
    }
   ],
   "source": [
    "cd /Users/chengdan/Desktop/Python_Project_Dan_Cheng"
   ]
  },
  {
   "cell_type": "code",
   "execution_count": 4,
   "metadata": {},
   "outputs": [
    {
     "data": {
      "text/plain": [
       "'/Users/chengdan/Desktop/Python_Project_Dan_Cheng'"
      ]
     },
     "execution_count": 4,
     "metadata": {},
     "output_type": "execute_result"
    }
   ],
   "source": [
    "pwd"
   ]
  },
  {
   "cell_type": "markdown",
   "metadata": {},
   "source": [
    "# Process original data"
   ]
  },
  {
   "cell_type": "code",
   "execution_count": 5,
   "metadata": {},
   "outputs": [],
   "source": [
    "import pandas as pd"
   ]
  },
  {
   "cell_type": "markdown",
   "metadata": {},
   "source": [
    "Read \"CCDS.20160908_origin.txt\" as csv file:"
   ]
  },
  {
   "cell_type": "code",
   "execution_count": 7,
   "metadata": {},
   "outputs": [],
   "source": [
    "data0 = pd.read_csv(\"CCDS.20160908_origin.txt\",sep=\"\\t\")http://localhost:8889/notebooks/Desktop/Python_Project_Dan_Cheng.ipynb#Check-the-type-of-data0"
   ]
  },
  {
   "cell_type": "markdown",
   "metadata": {},
   "source": [
    "Check the type of data0:"
   ]
  },
  {
   "cell_type": "code",
   "execution_count": 8,
   "metadata": {},
   "outputs": [
    {
     "data": {
      "text/plain": [
       "pandas.core.frame.DataFrame"
      ]
     },
     "execution_count": 8,
     "metadata": {},
     "output_type": "execute_result"
    }
   ],
   "source": [
    "type(data0)"
   ]
  },
  {
   "cell_type": "markdown",
   "metadata": {},
   "source": [
    "Check the shape of data0:"
   ]
  },
  {
   "cell_type": "code",
   "execution_count": 9,
   "metadata": {},
   "outputs": [
    {
     "data": {
      "text/plain": [
       "(34297, 11)"
      ]
     },
     "execution_count": 9,
     "metadata": {},
     "output_type": "execute_result"
    }
   ],
   "source": [
    "data0.shape"
   ]
  },
  {
   "cell_type": "markdown",
   "metadata": {},
   "source": [
    "#This data frame contains 34297 rows and 11 columns"
   ]
  },
  {
   "cell_type": "markdown",
   "metadata": {},
   "source": [
    "Check the firs 5 rows of data0:"
   ]
  },
  {
   "cell_type": "code",
   "execution_count": 10,
   "metadata": {},
   "outputs": [
    {
     "data": {
      "text/html": [
       "<div>\n",
       "<style scoped>\n",
       "    .dataframe tbody tr th:only-of-type {\n",
       "        vertical-align: middle;\n",
       "    }\n",
       "\n",
       "    .dataframe tbody tr th {\n",
       "        vertical-align: top;\n",
       "    }\n",
       "\n",
       "    .dataframe thead th {\n",
       "        text-align: right;\n",
       "    }\n",
       "</style>\n",
       "<table border=\"1\" class=\"dataframe\">\n",
       "  <thead>\n",
       "    <tr style=\"text-align: right;\">\n",
       "      <th></th>\n",
       "      <th>#chromosome</th>\n",
       "      <th>nc_accession</th>\n",
       "      <th>gene</th>\n",
       "      <th>gene_id</th>\n",
       "      <th>ccds_id</th>\n",
       "      <th>ccds_status</th>\n",
       "      <th>cds_strand</th>\n",
       "      <th>cds_from</th>\n",
       "      <th>cds_to</th>\n",
       "      <th>cds_locations</th>\n",
       "      <th>match_type</th>\n",
       "    </tr>\n",
       "  </thead>\n",
       "  <tbody>\n",
       "    <tr>\n",
       "      <th>0</th>\n",
       "      <td>1</td>\n",
       "      <td>NC_000001.8</td>\n",
       "      <td>LINC00115</td>\n",
       "      <td>79854</td>\n",
       "      <td>CCDS1.1</td>\n",
       "      <td>Withdrawn</td>\n",
       "      <td>-</td>\n",
       "      <td>-</td>\n",
       "      <td>-</td>\n",
       "      <td>-</td>\n",
       "      <td>None</td>\n",
       "    </tr>\n",
       "    <tr>\n",
       "      <th>1</th>\n",
       "      <td>1</td>\n",
       "      <td>NC_000001.11</td>\n",
       "      <td>SAMD11</td>\n",
       "      <td>148398</td>\n",
       "      <td>CCDS2.2</td>\n",
       "      <td>Public</td>\n",
       "      <td>+</td>\n",
       "      <td>925941</td>\n",
       "      <td>944152</td>\n",
       "      <td>[925941-926012, 930154-930335, 931038-931088, ...</td>\n",
       "      <td>Identical</td>\n",
       "    </tr>\n",
       "    <tr>\n",
       "      <th>2</th>\n",
       "      <td>1</td>\n",
       "      <td>NC_000001.11</td>\n",
       "      <td>NOC2L</td>\n",
       "      <td>26155</td>\n",
       "      <td>CCDS3.1</td>\n",
       "      <td>Public</td>\n",
       "      <td>-</td>\n",
       "      <td>944693</td>\n",
       "      <td>959239</td>\n",
       "      <td>[944693-944799, 945056-945145, 945517-945652, ...</td>\n",
       "      <td>Identical</td>\n",
       "    </tr>\n",
       "    <tr>\n",
       "      <th>3</th>\n",
       "      <td>1</td>\n",
       "      <td>NC_000001.11</td>\n",
       "      <td>PLEKHN1</td>\n",
       "      <td>84069</td>\n",
       "      <td>CCDS4.1</td>\n",
       "      <td>Public</td>\n",
       "      <td>+</td>\n",
       "      <td>966531</td>\n",
       "      <td>974574</td>\n",
       "      <td>[966531-966613, 966703-966802, 970276-970422, ...</td>\n",
       "      <td>Identical</td>\n",
       "    </tr>\n",
       "    <tr>\n",
       "      <th>4</th>\n",
       "      <td>1</td>\n",
       "      <td>NC_000001.11</td>\n",
       "      <td>HES4</td>\n",
       "      <td>57801</td>\n",
       "      <td>CCDS5.1</td>\n",
       "      <td>Public</td>\n",
       "      <td>-</td>\n",
       "      <td>999058</td>\n",
       "      <td>999972</td>\n",
       "      <td>[999058-999431, 999525-999612, 999691-999786, ...</td>\n",
       "      <td>Identical</td>\n",
       "    </tr>\n",
       "  </tbody>\n",
       "</table>\n",
       "</div>"
      ],
      "text/plain": [
       "  #chromosome  nc_accession       gene  gene_id  ccds_id ccds_status  \\\n",
       "0           1   NC_000001.8  LINC00115    79854  CCDS1.1   Withdrawn   \n",
       "1           1  NC_000001.11     SAMD11   148398  CCDS2.2      Public   \n",
       "2           1  NC_000001.11      NOC2L    26155  CCDS3.1      Public   \n",
       "3           1  NC_000001.11    PLEKHN1    84069  CCDS4.1      Public   \n",
       "4           1  NC_000001.11       HES4    57801  CCDS5.1      Public   \n",
       "\n",
       "  cds_strand cds_from  cds_to  \\\n",
       "0          -        -       -   \n",
       "1          +   925941  944152   \n",
       "2          -   944693  959239   \n",
       "3          +   966531  974574   \n",
       "4          -   999058  999972   \n",
       "\n",
       "                                       cds_locations match_type  \n",
       "0                                                  -       None  \n",
       "1  [925941-926012, 930154-930335, 931038-931088, ...  Identical  \n",
       "2  [944693-944799, 945056-945145, 945517-945652, ...  Identical  \n",
       "3  [966531-966613, 966703-966802, 970276-970422, ...  Identical  \n",
       "4  [999058-999431, 999525-999612, 999691-999786, ...  Identical  "
      ]
     },
     "execution_count": 10,
     "metadata": {},
     "output_type": "execute_result"
    }
   ],
   "source": [
    "data0.head()"
   ]
  },
  {
   "cell_type": "markdown",
   "metadata": {},
   "source": [
    "#Now I can see that the column labels including: \"#chromosome\", \"nc_accession\", \"gene\", \"gene_id\", \"ccds_id\",\n",
    "\"ccds_status\", \"cds_strand\", \"cds_from\", \"cds_to\", \"cds_locations\", \"match_type\""
   ]
  },
  {
   "cell_type": "markdown",
   "metadata": {},
   "source": [
    "Check the composition of the \"match_type\" column of data0:"
   ]
  },
  {
   "cell_type": "code",
   "execution_count": 11,
   "metadata": {},
   "outputs": [
    {
     "data": {
      "text/plain": [
       "Identical    34031\n",
       "None           219\n",
       "Partial         47\n",
       "Name: match_type, dtype: int64"
      ]
     },
     "execution_count": 11,
     "metadata": {},
     "output_type": "execute_result"
    }
   ],
   "source": [
    "data0.iloc[:,-1].value_counts()"
   ]
  },
  {
   "cell_type": "markdown",
   "metadata": {},
   "source": [
    "#I only want to take the data whose \"match_type\" is \"Identical\""
   ]
  },
  {
   "cell_type": "markdown",
   "metadata": {},
   "source": [
    "Check the composition of the \"ccds_status\" column of data0:"
   ]
  },
  {
   "cell_type": "code",
   "execution_count": 12,
   "metadata": {},
   "outputs": [
    {
     "data": {
      "text/plain": [
       "Public                                32534\n",
       "Withdrawn                              1731\n",
       "Under review, withdrawal                 15\n",
       "Reviewed, update pending                  7\n",
       "Withdrawn, inconsistent annotation        6\n",
       "Under review, update                      4\n",
       "Name: ccds_status, dtype: int64"
      ]
     },
     "execution_count": 12,
     "metadata": {},
     "output_type": "execute_result"
    }
   ],
   "source": [
    "data0.iloc[:,5].value_counts()"
   ]
  },
  {
   "cell_type": "markdown",
   "metadata": {},
   "source": [
    "#I only want to take the data whose \"ccds_status\" is \"Public\""
   ]
  },
  {
   "cell_type": "code",
   "execution_count": 13,
   "metadata": {},
   "outputs": [],
   "source": [
    "import numpy as np"
   ]
  },
  {
   "cell_type": "markdown",
   "metadata": {},
   "source": [
    "Take the data with \"match_type\"==\"Identical\" and \"ccds_status\"==\"Public\", and save as data1:"
   ]
  },
  {
   "cell_type": "code",
   "execution_count": 26,
   "metadata": {},
   "outputs": [],
   "source": [
    "data1 = np.logical_and(data0.iloc[:,5]==\"Public\",data0.iloc[:,-1]==\"Identical\")"
   ]
  },
  {
   "cell_type": "markdown",
   "metadata": {},
   "source": [
    "Check the type of data1:"
   ]
  },
  {
   "cell_type": "code",
   "execution_count": 18,
   "metadata": {},
   "outputs": [
    {
     "data": {
      "text/plain": [
       "pandas.core.series.Series"
      ]
     },
     "execution_count": 18,
     "metadata": {},
     "output_type": "execute_result"
    }
   ],
   "source": [
    "type(data1)"
   ]
  },
  {
   "cell_type": "markdown",
   "metadata": {},
   "source": [
    "#Now the type of the data is changed from dataframe to series"
   ]
  },
  {
   "cell_type": "markdown",
   "metadata": {},
   "source": [
    "Check how many genes meet the requirements \"match_type\"==\"Identical\" and \"ccds_status\"==\"Public\":"
   ]
  },
  {
   "cell_type": "code",
   "execution_count": 27,
   "metadata": {},
   "outputs": [
    {
     "data": {
      "text/plain": [
       "True     32533\n",
       "False     1764\n",
       "Name: ccds_status, dtype: int64"
      ]
     },
     "execution_count": 27,
     "metadata": {},
     "output_type": "execute_result"
    }
   ],
   "source": [
    "data1.value_counts()"
   ]
  },
  {
   "cell_type": "markdown",
   "metadata": {},
   "source": [
    "#There are 32533 genes meet the requirements \"match_type\"==\"Identical\" and \"ccds_status\"==\"Public\""
   ]
  },
  {
   "cell_type": "code",
   "execution_count": 32,
   "metadata": {},
   "outputs": [
    {
     "ename": "TypeError",
     "evalue": "'([0        False\n1         True\n2         True\n3         True\n4         True\n5         True\n6         True\n7         True\n8         True\n9         True\n10        True\n11        True\n12        True\n13        True\n14        True\n15        True\n16       False\n17       False\n18        True\n19        True\n20        True\n21        True\n22       False\n23        True\n24        True\n25        True\n26        True\n27        True\n28       False\n29        True\n         ...  \n34267     True\n34268     True\n34269     True\n34270     True\n34271     True\n34272     True\n34273     True\n34274     True\n34275     True\n34276     True\n34277     True\n34278     True\n34279     True\n34280     True\n34281     True\n34282     True\n34283     True\n34284     True\n34285     True\n34286     True\n34287     True\n34288     True\n34289     True\n34290     True\n34291     True\n34292     True\n34293     True\n34294     True\n34295     True\n34296     True\nName: ccds_status, Length: 34297, dtype: bool], slice(None, None, None))' is an invalid key",
     "output_type": "error",
     "traceback": [
      "\u001b[0;31m---------------------------------------------------------------------------\u001b[0m",
      "\u001b[0;31mTypeError\u001b[0m                                 Traceback (most recent call last)",
      "\u001b[0;32m<ipython-input-32-8be566ff77cb>\u001b[0m in \u001b[0;36m<module>\u001b[0;34m\u001b[0m\n\u001b[0;32m----> 1\u001b[0;31m \u001b[0mdata2\u001b[0m \u001b[0;34m=\u001b[0m \u001b[0mdata0\u001b[0m\u001b[0;34m[\u001b[0m\u001b[0;34m[\u001b[0m\u001b[0mdata1\u001b[0m\u001b[0;34m]\u001b[0m\u001b[0;34m,\u001b[0m\u001b[0;34m:\u001b[0m\u001b[0;34m]\u001b[0m\u001b[0;34m\u001b[0m\u001b[0;34m\u001b[0m\u001b[0m\n\u001b[0m",
      "\u001b[0;32m~/anaconda3/lib/python3.7/site-packages/pandas/core/frame.py\u001b[0m in \u001b[0;36m__getitem__\u001b[0;34m(self, key)\u001b[0m\n\u001b[1;32m   2925\u001b[0m             \u001b[0;32mif\u001b[0m \u001b[0mself\u001b[0m\u001b[0;34m.\u001b[0m\u001b[0mcolumns\u001b[0m\u001b[0;34m.\u001b[0m\u001b[0mnlevels\u001b[0m \u001b[0;34m>\u001b[0m \u001b[0;36m1\u001b[0m\u001b[0;34m:\u001b[0m\u001b[0;34m\u001b[0m\u001b[0;34m\u001b[0m\u001b[0m\n\u001b[1;32m   2926\u001b[0m                 \u001b[0;32mreturn\u001b[0m \u001b[0mself\u001b[0m\u001b[0;34m.\u001b[0m\u001b[0m_getitem_multilevel\u001b[0m\u001b[0;34m(\u001b[0m\u001b[0mkey\u001b[0m\u001b[0;34m)\u001b[0m\u001b[0;34m\u001b[0m\u001b[0;34m\u001b[0m\u001b[0m\n\u001b[0;32m-> 2927\u001b[0;31m             \u001b[0mindexer\u001b[0m \u001b[0;34m=\u001b[0m \u001b[0mself\u001b[0m\u001b[0;34m.\u001b[0m\u001b[0mcolumns\u001b[0m\u001b[0;34m.\u001b[0m\u001b[0mget_loc\u001b[0m\u001b[0;34m(\u001b[0m\u001b[0mkey\u001b[0m\u001b[0;34m)\u001b[0m\u001b[0;34m\u001b[0m\u001b[0;34m\u001b[0m\u001b[0m\n\u001b[0m\u001b[1;32m   2928\u001b[0m             \u001b[0;32mif\u001b[0m \u001b[0mis_integer\u001b[0m\u001b[0;34m(\u001b[0m\u001b[0mindexer\u001b[0m\u001b[0;34m)\u001b[0m\u001b[0;34m:\u001b[0m\u001b[0;34m\u001b[0m\u001b[0;34m\u001b[0m\u001b[0m\n\u001b[1;32m   2929\u001b[0m                 \u001b[0mindexer\u001b[0m \u001b[0;34m=\u001b[0m \u001b[0;34m[\u001b[0m\u001b[0mindexer\u001b[0m\u001b[0;34m]\u001b[0m\u001b[0;34m\u001b[0m\u001b[0;34m\u001b[0m\u001b[0m\n",
      "\u001b[0;32m~/anaconda3/lib/python3.7/site-packages/pandas/core/indexes/base.py\u001b[0m in \u001b[0;36mget_loc\u001b[0;34m(self, key, method, tolerance)\u001b[0m\n\u001b[1;32m   2655\u001b[0m                                  'backfill or nearest lookups')\n\u001b[1;32m   2656\u001b[0m             \u001b[0;32mtry\u001b[0m\u001b[0;34m:\u001b[0m\u001b[0;34m\u001b[0m\u001b[0;34m\u001b[0m\u001b[0m\n\u001b[0;32m-> 2657\u001b[0;31m                 \u001b[0;32mreturn\u001b[0m \u001b[0mself\u001b[0m\u001b[0;34m.\u001b[0m\u001b[0m_engine\u001b[0m\u001b[0;34m.\u001b[0m\u001b[0mget_loc\u001b[0m\u001b[0;34m(\u001b[0m\u001b[0mkey\u001b[0m\u001b[0;34m)\u001b[0m\u001b[0;34m\u001b[0m\u001b[0;34m\u001b[0m\u001b[0m\n\u001b[0m\u001b[1;32m   2658\u001b[0m             \u001b[0;32mexcept\u001b[0m \u001b[0mKeyError\u001b[0m\u001b[0;34m:\u001b[0m\u001b[0;34m\u001b[0m\u001b[0;34m\u001b[0m\u001b[0m\n\u001b[1;32m   2659\u001b[0m                 \u001b[0;32mreturn\u001b[0m \u001b[0mself\u001b[0m\u001b[0;34m.\u001b[0m\u001b[0m_engine\u001b[0m\u001b[0;34m.\u001b[0m\u001b[0mget_loc\u001b[0m\u001b[0;34m(\u001b[0m\u001b[0mself\u001b[0m\u001b[0;34m.\u001b[0m\u001b[0m_maybe_cast_indexer\u001b[0m\u001b[0;34m(\u001b[0m\u001b[0mkey\u001b[0m\u001b[0;34m)\u001b[0m\u001b[0;34m)\u001b[0m\u001b[0;34m\u001b[0m\u001b[0;34m\u001b[0m\u001b[0m\n",
      "\u001b[0;32mpandas/_libs/index.pyx\u001b[0m in \u001b[0;36mpandas._libs.index.IndexEngine.get_loc\u001b[0;34m()\u001b[0m\n",
      "\u001b[0;32mpandas/_libs/index.pyx\u001b[0m in \u001b[0;36mpandas._libs.index.IndexEngine.get_loc\u001b[0;34m()\u001b[0m\n",
      "\u001b[0;31mTypeError\u001b[0m: '([0        False\n1         True\n2         True\n3         True\n4         True\n5         True\n6         True\n7         True\n8         True\n9         True\n10        True\n11        True\n12        True\n13        True\n14        True\n15        True\n16       False\n17       False\n18        True\n19        True\n20        True\n21        True\n22       False\n23        True\n24        True\n25        True\n26        True\n27        True\n28       False\n29        True\n         ...  \n34267     True\n34268     True\n34269     True\n34270     True\n34271     True\n34272     True\n34273     True\n34274     True\n34275     True\n34276     True\n34277     True\n34278     True\n34279     True\n34280     True\n34281     True\n34282     True\n34283     True\n34284     True\n34285     True\n34286     True\n34287     True\n34288     True\n34289     True\n34290     True\n34291     True\n34292     True\n34293     True\n34294     True\n34295     True\n34296     True\nName: ccds_status, Length: 34297, dtype: bool], slice(None, None, None))' is an invalid key"
     ]
    }
   ],
   "source": [
    "data2 = data0[data1,:]"
   ]
  },
  {
   "cell_type": "code",
   "execution_count": null,
   "metadata": {},
   "outputs": [],
   "source": []
  }
 ],
 "metadata": {
  "kernelspec": {
   "display_name": "Python 3",
   "language": "python",
   "name": "python3"
  },
  "language_info": {
   "codemirror_mode": {
    "name": "ipython",
    "version": 3
   },
   "file_extension": ".py",
   "mimetype": "text/x-python",
   "name": "python",
   "nbconvert_exporter": "python",
   "pygments_lexer": "ipython3",
   "version": "3.7.3"
  }
 },
 "nbformat": 4,
 "nbformat_minor": 2
}
